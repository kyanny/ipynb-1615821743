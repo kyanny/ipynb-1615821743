{
 "metadata": {
  "language_info": {
   "codemirror_mode": {
    "name": "ipython",
    "version": 3
   },
   "file_extension": ".py",
   "mimetype": "text/x-python",
   "name": "python",
   "nbconvert_exporter": "python",
   "pygments_lexer": "ipython3",
   "version": "3.5.3-final"
  },
  "orig_nbformat": 2,
  "kernelspec": {
   "name": "python3",
   "display_name": "Python 3.5.3 64-bit ('3.5.3')",
   "metadata": {
    "interpreter": {
     "hash": "4397cb9d7e51465a1de989b65c21f9abece24848ccd103e5cf9e60ad799ba2f2"
    }
   }
  }
 },
 "nbformat": 4,
 "nbformat_minor": 2,
 "cells": [
  {
   "source": [
    "a"
   ],
   "cell_type": "markdown",
   "metadata": {}
  }
 ]
}